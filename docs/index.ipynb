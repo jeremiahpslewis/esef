{
  "cells": [
    {
      "cell_type": "raw",
      "metadata": {},
      "source": [
        "---\n",
        "title: \"ESEF Intro\"\n",
        "author: \"Jeremiah Lewis\"\n",
        "format:\n",
        "  html:\n",
        "    code-fold: false\n",
        "engine: jupyter\n",
        "---"
      ],
      "id": "bffdd4eb"
    },
    {
      "cell_type": "markdown",
      "metadata": {},
      "source": [
        "# ESEF Data Product\n",
        "\n",
        "[![GitHub Super-Linter](https://github.com/trr266/esef/workflows/Lint%20Code%20Base/badge.svg)](https://github.com/marketplace/actions/super-linter)\n",
        "\n",
        "A project of the [Open Science Data Center][c02]\n",
        "\n",
        "> Research Data Access for the European Single Electronic Format (ESEF)\n",
        "\n",
        "## Visualizations\n",
        "\n",
        "## ESEF Country Availability (Map)\n"
      ],
      "id": "03c07927"
    },
    {
      "cell_type": "code",
      "metadata": {},
      "source": [
        "using ESEF\n",
        "\n",
        "plots = ESEF.generate_esef_homepage_viz(; map_output=\"web\")"
      ],
      "id": "94376590",
      "execution_count": null,
      "outputs": []
    },
    {
      "cell_type": "code",
      "metadata": {},
      "source": [
        "#| label: fig-parametric\n",
        "#| fig-cap: ESEF Country Availability (Map)\n",
        "\n",
        "plots[\"esef_country_availability_map\"]"
      ],
      "id": "fig-parametric",
      "execution_count": null,
      "outputs": []
    },
    {
      "cell_type": "code",
      "metadata": {},
      "source": [
        "#| label: fig-parametric\n",
        "#| fig-cap: ESEF Country Availability (Map)\n",
        "plots[\"esef_country_availability_bar\"]"
      ],
      "id": "fig-parametric",
      "execution_count": null,
      "outputs": []
    },
    {
      "cell_type": "code",
      "metadata": {},
      "source": [
        "#| label: fig-parametric\n",
        "#| fig-cap: ESEF Mandate Overview\n",
        "plots[\"esef_mandate_overview\"]"
      ],
      "id": "fig-parametric",
      "execution_count": null,
      "outputs": []
    },
    {
      "cell_type": "code",
      "metadata": {},
      "source": [
        "#| label: fig-parametric\n",
        "#| fig-cap: ESEF Publication Date Composite\n",
        "plots[\"esef_publication_date_composite\"]"
      ],
      "id": "fig-parametric",
      "execution_count": null,
      "outputs": []
    },
    {
      "cell_type": "code",
      "metadata": {},
      "source": [
        "#| label: fig-parametric\n",
        "#| fig-cap: ESEF Error Histogram\n",
        "plots[\"esef_error_hist\"]"
      ],
      "id": "fig-parametric",
      "execution_count": null,
      "outputs": []
    },
    {
      "cell_type": "code",
      "metadata": {},
      "source": [
        "#| label: fig-parametric\n",
        "#| fig-cap: ESEF Error Country Heatmap\n",
        "plots[\"esef_error_country_heatmap\"]"
      ],
      "id": "fig-parametric",
      "execution_count": null,
      "outputs": []
    },
    {
      "cell_type": "code",
      "metadata": {},
      "source": [
        "#| label: fig-parametric\n",
        "#| fig-cap: ESEF Error Type Bar Chart\n",
        "plots[\"esef_error_type_freq_bar\"]"
      ],
      "id": "fig-parametric",
      "execution_count": null,
      "outputs": []
    },
    {
      "cell_type": "code",
      "metadata": {},
      "source": [
        "#| label: fig-parametric\n",
        "#| fig-cap: ESEF Error Count by Twitter Followers\n",
        "plots[\"esef_errors_followers\"]"
      ],
      "id": "fig-parametric",
      "execution_count": null,
      "outputs": []
    },
    {
      "cell_type": "markdown",
      "metadata": {},
      "source": [
        "## Resources\n",
        "\n",
        "- @sec-data-availability\n",
        "- @sec-data-coverage\n",
        "- [CRediT Contributor Statement](docs/contributors.yaml)\n",
        "\n",
        "With the introduction of the European Single Electronic Format (ESEF) for annual financial reports, corporate financial data\n",
        "in the European Union becomes standardized and machine-readable for the first time. Use of the format is binding for\n",
        "financial year 2020 and later and as companies begin to publish using ESEF, there are significant opportunities and challenges ahead\n",
        "for the accounting research community.\n",
        "\n",
        "As part of TRR266, funding has been obtained to empower and enable research using these documents.\n",
        "By incubating this project as open source from the outset, we hope to attract contributions from academia and industry\n",
        "and avoid the privatization of this emerging open data resource.\n",
        "\n",
        "[ESEF is a standard based on XBRL][esef_home], but it is not a document repository. ESEF has been adopted by the 27 nations\n",
        "of the European Union as well as Norway and Iceleand.\n",
        "[Each country is responsible for designating a national database][competent_authorities].\n",
        "\n",
        "## Project Modules\n",
        "\n",
        "1. A dashboard which tracks ESEF availability by country and filing quality by country and company\n",
        "2. A dataset which identifies all firms ('issuer') subject to ESEF regulation\n",
        "3. An ESEF parser which reads, validates, and normalizes ESEF financial reports\n",
        "4. A repository of raw filings in the ESEF format\n",
        "5. Standardized ['data products'][data_product] extracted from ESEF filings\n",
        "\n",
        "## Project Goals\n",
        "\n",
        "1. Enable TRR researchers to do research on the basis of ESEF data\n",
        "2. Gather and focus open source ESEF software efforts\n",
        "3. Publicize and encourage high quality filings and easy data access by national competent authorities\n",
        "4. Establish canonical 'data product schemas' for analyzing financial reporting across the European Union\n",
        "5. Promote open science and open data in accounting and offer templates and tools for building on our work\n",
        "\n",
        "## Technical Approach\n",
        "\n",
        "1. GitHub Actions CI/CD is used to ensure that code is tested and functional at every commit\n",
        "2. Pull Requests with maintainer reviews ensure code quality\n",
        "3. The project will be developed 'out in the open' to avoid the 'ripping the band-aid off' experience of having to decide when to open source\n",
        "4. The project will be developed under an OSS-compliant MIT license\n",
        "\n",
        "## Project Funding\n",
        "\n",
        "Funded by the [Deutsche Forschungsgemeinschaft (DFG, German Research Foundation)][dfg]: [Project-ID 403041268 – TRR 266 Accounting for Transparency][trr_266].\n",
        "\n",
        "[esef_home]: https://www.esma.europa.eu/policy-activities/corporate-disclosure/european-single-electronic-format\n",
        "[competent_authorities]: https://www.esma.europa.eu/access-regulated-information\n",
        "[data_product]: https://martinfowler.com/articles/data-mesh-principles.html#DataAsAProduct\n",
        "[trr_266]: https://www.accounting-for-transparency.de\n",
        "[dfg]: https://www.dfg.de\n",
        "[c02]: https://www.accounting-for-transparency.de/project/open-science-data-center/\n",
        "\n",
        "\n",
        "## Datasets Used\n",
        "\n",
        "| Dataset | License |\n",
        "| -- | -- |\n",
        "| [filings.xbrl.org][xbrl_filings] | None |\n",
        "| [lukes/ISO-3166-Countries-with-Regional-Codes][iso_3166] | [CC BY-SA 4.0][cc_by_sa] |\n",
        "| [World Atlas TopoJSON][world_atlas] | [ISC][isc] |\n",
        "| [ESMA Public Data (Regulated Markets)][esma_api] | [ESMA T&C][esma_tc] |\n",
        "| [Wikidata][wikidata] | [CC0][cc_0] |\n",
        "## Licensing\n",
        "\n",
        "- For code, see [LICENSE](LICENSE)\n",
        "- Graphics are licensed [CC BY-SA 4.0][cc_by_sa]\n",
        "\n",
        "[xbrl_filings]: https://filings.xbrl.org/about.html\n",
        "[iso_3166]: https://github.com/lukes/ISO-3166-Countries-with-Regional-Codes\n",
        "[world_atlas]: https://www.npmjs.com/package/world-atlas\n",
        "[isc]: https://www.isc.org/licenses/\n",
        "[cc_by_sa]: https://creativecommons.org/licenses/by-sa/4.0/\n",
        "[esma_api]: https://registers.esma.europa.eu/publication/helpApp\n",
        "[esma_tc]: https://registers.esma.europa.eu/publication/legalNoticePage\n",
        "[wikidata]: https://www.wikidata.org/wiki/Wikidata:Main_Page\n",
        "[cc_0]: https://creativecommons.org/publicdomain/zero/1.0/"
      ],
      "id": "8a1d2f13"
    }
  ],
  "metadata": {
    "kernelspec": {
      "name": "julia-1.7",
      "language": "julia",
      "display_name": "Julia 1.7.3"
    }
  },
  "nbformat": 4,
  "nbformat_minor": 5
}